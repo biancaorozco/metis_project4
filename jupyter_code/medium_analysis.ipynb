{
 "cells": [
  {
   "cell_type": "code",
   "execution_count": 1,
   "metadata": {
    "ExecuteTime": {
     "end_time": "2019-11-15T07:52:23.715174Z",
     "start_time": "2019-11-15T07:52:21.025024Z"
    }
   },
   "outputs": [],
   "source": [
    "######################### Import #########################\n",
    "import os\n",
    "import re\n",
    "import string\n",
    "import pandas as pd\n",
    "import numpy as np\n",
    "\n",
    "from matplotlib import pyplot as plt\n",
    "from sklearn.cluster import KMeans\n",
    "from sklearn.feature_extraction.text import TfidfVectorizer\n",
    "from sklearn.decomposition import TruncatedSVD\n",
    "from sklearn.metrics.pairwise import cosine_similarity\n",
    "from sklearn.model_selection import train_test_split"
   ]
  },
  {
   "cell_type": "code",
   "execution_count": 2,
   "metadata": {
    "ExecuteTime": {
     "end_time": "2019-11-15T07:52:42.168161Z",
     "start_time": "2019-11-15T07:52:23.717997Z"
    }
   },
   "outputs": [
    {
     "name": "stderr",
     "output_type": "stream",
     "text": [
      "/Users/biancaorozco/anaconda3/envs/metis/lib/python3.7/site-packages/IPython/core/interactiveshell.py:3058: DtypeWarning: Columns (5) have mixed types. Specify dtype option on import or set low_memory=False.\n",
      "  interactivity=interactivity, compiler=compiler, result=result)\n"
     ]
    }
   ],
   "source": [
    "######################### Data #########################\n",
    "os.chdir('/Users/biancaorozco/Desktop/Metis/project4/medium/data/')\n",
    "df = pd.read_csv('Medium_Clean.csv').sample(250000)"
   ]
  },
  {
   "cell_type": "code",
   "execution_count": 3,
   "metadata": {
    "ExecuteTime": {
     "end_time": "2019-11-15T07:52:42.195445Z",
     "start_time": "2019-11-15T07:52:42.173474Z"
    }
   },
   "outputs": [],
   "source": [
    "######################### Functions #########################\n",
    "def space(string):\n",
    "    \n",
    "    return string + ' '\n",
    "\n",
    "def add_space(series):\n",
    "    new_series = pd.Series([])\n",
    "    for string in series:\n",
    "        new_string = pd.Series([space(string)])\n",
    "        new_series = new_series.append(new_string)\n",
    "\n",
    "    return new_series\n",
    "\n",
    "# Preprocessing Text\n",
    "def preprocessing(Series):\n",
    "    new_series = pd.Series([])\n",
    "    alphanumeric = lambda x: re.sub('\\w*\\d\\w*', ' ', x)\n",
    "    punc_lower = lambda x: re.sub('[%s]' % re.escape(string.punctuation), ' ', x.lower())\n",
    "\n",
    "    new_series = Series.map(alphanumeric).map(punc_lower)\n",
    "    return new_series\n",
    "\n",
    "def display_topics(model, feature_names, no_top_words, topic_names=None):\n",
    "    for ix, topic in enumerate(model.components_):\n",
    "        if not topic_names or not topic_names[ix]:\n",
    "            print(\"\\nTopic \", ix)\n",
    "        else:\n",
    "            print(\"\\nTopic: '\",topic_names[ix],\"'\")\n",
    "        print(\", \".join([feature_names[i]\n",
    "                        for i in topic.argsort()[:-no_top_words - 1:-1]]))\n",
    "        \n",
    "# helper function that allows us to display data in 2 dimensions an highlights the clusters\n",
    "def display_cluster(X,km=[],num_clusters=0):\n",
    "    color = 'brgcmyk'\n",
    "    alpha = 0.5\n",
    "    s = 20\n",
    "    if num_clusters == 0:\n",
    "        plt.scatter(X[:,0],X[:,1],c = color[0],alpha = alpha,s = s)\n",
    "    else:\n",
    "        for i in range(num_clusters):\n",
    "            plt.scatter(X[km.labels_==i,0],X[km.labels_==i,1],c = color[i],alpha = alpha,s=s)\n",
    "            plt.scatter(km.cluster_centers_[i][0],km.cluster_centers_[i][1],c = color[i], marker = 'x', s = 200)"
   ]
  },
  {
   "cell_type": "code",
   "execution_count": 4,
   "metadata": {
    "ExecuteTime": {
     "end_time": "2019-11-15T07:53:12.842931Z",
     "start_time": "2019-11-15T07:52:42.198197Z"
    }
   },
   "outputs": [],
   "source": [
    "######################### Cleaning Data #########################\n",
    "# Reverse Engineer Dummy Variables\n",
    "categories = df.iloc[:,13:]\n",
    "x = categories.stack()\n",
    "tags = pd.Series(pd.Categorical(x[x!=0].index.get_level_values(1)))\n",
    "\n",
    "# Only want 4 columns for my new dataset\n",
    "newdf = df.loc[:, ['Title', 'Subtitle', 'Claps']]\n",
    "\n",
    "# Tag for each article\n",
    "newdf['Tags'] = tags\n",
    "\n",
    "# Claps from floats to integers\n",
    "newdf['Claps'] = newdf['Claps'].astype(int)\n",
    "\n",
    "data = newdf.dropna()\n",
    "data = data.reset_index(drop=True)\n",
    "\n",
    "# Adding a space to the end of each title; preparing to add subtitle \n",
    "title_series = add_space(data['Title'])\n",
    "\n",
    "# Need to reset indices of both in order to replace Title column\n",
    "title_series = title_series.reset_index(drop=True)\n",
    "data.reset_index(drop=True)\n",
    "\n",
    "# Replace old titles with new titles+space\n",
    "data['Title'] = title_series\n",
    "\n",
    "# Join Title + Subtitle and save to a new 'Text' column\n",
    "data[\"Text\"] = data[\"Title\"].map(str) + data[\"Subtitle\"]"
   ]
  },
  {
   "cell_type": "code",
   "execution_count": 5,
   "metadata": {
    "ExecuteTime": {
     "end_time": "2019-11-15T07:53:14.464727Z",
     "start_time": "2019-11-15T07:53:12.845408Z"
    }
   },
   "outputs": [],
   "source": [
    "######################### Documents Data #########################\n",
    "docs = preprocessing(data['Text'])"
   ]
  },
  {
   "cell_type": "code",
   "execution_count": 6,
   "metadata": {
    "ExecuteTime": {
     "end_time": "2019-11-15T07:53:18.537502Z",
     "start_time": "2019-11-15T07:53:14.466966Z"
    }
   },
   "outputs": [],
   "source": [
    "######################### TF-IDF #########################\n",
    "# unigrams and bigrams\n",
    "tfidf = TfidfVectorizer(ngram_range=(1,2), binary=True, stop_words='english', min_df = 3, max_df = 0.75)\n",
    "tfdocs = tfidf.fit_transform(docs)\n",
    "\n",
    "# pd.DataFrame(tfdocs.toarray(), columns=tfidf.get_feature_names()).head()"
   ]
  },
  {
   "cell_type": "code",
   "execution_count": 7,
   "metadata": {
    "ExecuteTime": {
     "end_time": "2019-11-15T07:53:18.876835Z",
     "start_time": "2019-11-15T07:53:18.539654Z"
    }
   },
   "outputs": [],
   "source": [
    "######################### LSA #########################\n",
    "# Acronynms: Latent Semantic Analysis (LSA) is just another name for \n",
    "#  Signular Value Decomposition (SVD) applied to Natural Language Processing (NLP)\n",
    "lsa = TruncatedSVD(4)\n",
    "doc_topic = lsa.fit_transform(tfdocs)\n",
    "\n",
    "\n",
    "\n",
    "# topic_word = pd.DataFrame(lsa.components_.round(3), \n",
    "#                           index = ['c1', 'c2', 'c3', 'c4', 'c5', 'c6', 'c7', 'c8', 'c9', 'c10', 'c11', 'c12', 'c13', 'c14', 'c15', 'c16', 'c17', 'c18', 'c19', 'c20'], \n",
    "#                           columns = tfidf.get_feature_names())\n",
    "\n",
    "# Vt = pd.DataFrame(doc_topic.round(5),\n",
    "#              index = list(docs),\n",
    "#              columns = ['c1', 'c2', 'c3', 'c4', 'c5', 'c6', 'c7', 'c8', 'c9', 'c10', 'c11', 'c12', 'c13', 'c14', 'c15', 'c16', 'c17', 'c18', 'c19', 'c20'])"
   ]
  },
  {
   "cell_type": "code",
   "execution_count": 8,
   "metadata": {
    "ExecuteTime": {
     "end_time": "2019-11-15T07:53:18.957147Z",
     "start_time": "2019-11-15T07:53:18.881929Z"
    }
   },
   "outputs": [
    {
     "name": "stdout",
     "output_type": "stream",
     "text": [
      "\n",
      "Topic  0\n",
      "new, time, people, like, world, best, know, life, day, make\n",
      "\n",
      "Topic  1\n",
      "com, https, tinyurl, tinyurl com, https tinyurl, pdf, pdf https, read, www, online\n",
      "\n",
      "Topic  2\n",
      "new, blockchain, data, bitcoin, ico, technology, platform, token, android, crypto\n",
      "\n",
      "Topic  3\n",
      "android, app, best, data, business, download, google, like, free, apk\n"
     ]
    }
   ],
   "source": [
    "######################### Topics #########################\n",
    "display_topics(lsa, tfidf.get_feature_names(),10)"
   ]
  },
  {
   "cell_type": "code",
   "execution_count": 9,
   "metadata": {
    "ExecuteTime": {
     "end_time": "2019-11-15T07:53:21.207767Z",
     "start_time": "2019-11-15T07:53:18.960221Z"
    }
   },
   "outputs": [
    {
     "name": "stdout",
     "output_type": "stream",
     "text": [
      "217.38326653697257\n",
      "164.096685727873\n",
      "129.33826415489844\n",
      "105.20893941377199\n"
     ]
    },
    {
     "data": {
      "image/png": "[encoded data removed]",
      "text/plain": [
       "<Figure size 432x288 with 1 Axes>"
      ]
     },
     "metadata": {
      "needs_background": "light"
     },
     "output_type": "display_data"
    }
   ],
   "source": [
    "######################### K-Means Inertia #########################\n",
    "inertia=[]\n",
    "list_num_clusters = list(range(1,5))\n",
    "for k in list_num_clusters:\n",
    "    km = KMeans(n_clusters=k, init='k-means++', random_state=33)\n",
    "    km.fit(doc_topic)\n",
    "    print(km.inertia_)\n",
    "    inertia.append(km.inertia_)\n",
    "\n",
    "plt.plot(list_num_clusters,inertia)\n",
    "plt.scatter(list_num_clusters,inertia)\n",
    "plt.xlabel('Number of Clusters')\n",
    "plt.ylabel('Inertia');"
   ]
  },
  {
   "cell_type": "code",
   "execution_count": 11,
   "metadata": {
    "ExecuteTime": {
     "end_time": "2019-11-15T07:55:41.215422Z",
     "start_time": "2019-11-15T07:55:39.723045Z"
    }
   },
   "outputs": [
    {
     "name": "stdout",
     "output_type": "stream",
     "text": [
      "105.20893941377199\n"
     ]
    },
    {
     "data": {
      "image/png": "[encoded data removed]",
      "text/plain": [
       "<Figure size 432x288 with 1 Axes>"
      ]
     },
     "metadata": {
      "needs_background": "light"
     },
     "output_type": "display_data"
    }
   ],
   "source": [
    "######################### K-Means Clustering #########################\n",
    "km.fit(doc_topic)\n",
    "print(km.inertia_)\n",
    "display_cluster(doc_topic,km,num_clusters=3)"
   ]
  },
  {
   "cell_type": "code",
   "execution_count": null,
   "metadata": {},
   "outputs": [],
   "source": []
  }
 ],
 "metadata": {
  "kernelspec": {
   "display_name": "Python [conda env:metis] *",
   "language": "python",
   "name": "conda-env-metis-py"
  },
  "language_info": {
   "codemirror_mode": {
    "name": "ipython",
    "version": 3
   },
   "file_extension": ".py",
   "mimetype": "text/x-python",
   "name": "python",
   "nbconvert_exporter": "python",
   "pygments_lexer": "ipython3",
   "version": "3.7.3"
  },
  "toc": {
   "base_numbering": 1,
   "nav_menu": {},
   "number_sections": true,
   "sideBar": true,
   "skip_h1_title": false,
   "title_cell": "Table of Contents",
   "title_sidebar": "Contents",
   "toc_cell": false,
   "toc_position": {},
   "toc_section_display": true,
   "toc_window_display": false
  }
 },
 "nbformat": 4,
 "nbformat_minor": 2
}
