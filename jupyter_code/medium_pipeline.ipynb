{
 "cells": [
  {
   "cell_type": "code",
   "execution_count": 1,
   "metadata": {
    "ExecuteTime": {
     "end_time": "2019-11-15T17:21:06.316693Z",
     "start_time": "2019-11-15T17:21:04.605322Z"
    }
   },
   "outputs": [],
   "source": [
    "######################### Import #########################\n",
    "import os\n",
    "import re\n",
    "import string\n",
    "import pandas as pd\n",
    "import numpy as np\n",
    "\n",
    "from sklearn.cluster import KMeans\n",
    "from sklearn.decomposition import TruncatedSVD\n",
    "from sklearn.feature_extraction.text import TfidfVectorizer\n",
    "from sklearn.pipeline import Pipeline"
   ]
  },
  {
   "cell_type": "code",
   "execution_count": 2,
   "metadata": {
    "ExecuteTime": {
     "end_time": "2019-11-15T17:21:23.421215Z",
     "start_time": "2019-11-15T17:21:06.319664Z"
    }
   },
   "outputs": [
    {
     "name": "stderr",
     "output_type": "stream",
     "text": [
      "/Users/biancaorozco/anaconda3/envs/metis/lib/python3.7/site-packages/IPython/core/interactiveshell.py:3058: DtypeWarning: Columns (5) have mixed types. Specify dtype option on import or set low_memory=False.\n",
      "  interactivity=interactivity, compiler=compiler, result=result)\n"
     ]
    }
   ],
   "source": [
    "######################### Data #########################\n",
    "os.chdir('/Users/biancaorozco/Desktop/Metis/project4/medium/data/')\n",
    "df = pd.read_csv('Medium_Clean.csv').sample(250000)"
   ]
  },
  {
   "cell_type": "code",
   "execution_count": 3,
   "metadata": {
    "ExecuteTime": {
     "end_time": "2019-11-15T17:21:23.442841Z",
     "start_time": "2019-11-15T17:21:23.426015Z"
    }
   },
   "outputs": [],
   "source": [
    "######################### Functions #########################\n",
    "def space(string):\n",
    "    \n",
    "    return string + ' '\n",
    "\n",
    "\n",
    "def add_space(series):\n",
    "    new_series = pd.Series([])\n",
    "    for string in series:\n",
    "        new_string = pd.Series([space(string)])\n",
    "        new_series = new_series.append(new_string)\n",
    "\n",
    "    return new_series      \n",
    "     \n",
    "    \n",
    "# Preprocessing Text\n",
    "def preprocessing(Series):\n",
    "    new_series = pd.Series([])\n",
    "    alphanumeric = lambda x: re.sub('\\w*\\d\\w*', ' ', x)\n",
    "    punc_lower = lambda x: re.sub('[%s]' % re.escape(string.punctuation), ' ', x.lower())\n",
    "\n",
    "    new_series = Series.map(alphanumeric).map(punc_lower)\n",
    "    \n",
    "    return new_series\n",
    "\n",
    "\n",
    "def top_related_articles(search,fitted_pipeline):\n",
    "    searchS = pd.Series(search)\n",
    "    prepS = preprocessing(searchS)\n",
    "    \n",
    "    # Cluster where new search is located\n",
    "    cluster = fitted_pipeline.predict(prepS)[0]\n",
    "        \n",
    "    # Series of documents within the same cluster as our search\n",
    "    related_docs = docs[fitted_pipeline.named_steps['km'].labels_ == cluster]\n",
    "    \n",
    "    # Series of the top 3 related docs\n",
    "    popular_docs = claps[related_docs.index].sort_values()[-3:]\n",
    "    \n",
    "    # Printing the original Title, Subtitle, and Claps for the top 3 related docs\n",
    "    for index in popular_docs.index:\n",
    "        print(data.iloc[index, 0:3], '\\n')\n",
    "        \n",
    "    return\n",
    "\n"
   ]
  },
  {
   "cell_type": "code",
   "execution_count": 4,
   "metadata": {
    "ExecuteTime": {
     "end_time": "2019-11-15T17:21:51.847121Z",
     "start_time": "2019-11-15T17:21:23.446269Z"
    }
   },
   "outputs": [],
   "source": [
    "######################### Cleaning Data #########################\n",
    "# Reverse Engineer Dummy Variables\n",
    "categories = df.iloc[:,13:]\n",
    "x = categories.stack()\n",
    "tags = pd.Series(pd.Categorical(x[x!=0].index.get_level_values(1)))\n",
    "\n",
    "# Only want 4 columns for my new dataset\n",
    "newdf = df.loc[:, ['Title', 'Subtitle', 'Claps']]\n",
    "\n",
    "# Tag for each article\n",
    "newdf['Tags'] = tags\n",
    "\n",
    "# Claps from floats to integers\n",
    "newdf['Claps'] = newdf['Claps'].astype(int)\n",
    "\n",
    "data = newdf.dropna()\n",
    "data = data.reset_index(drop=True)\n",
    "\n",
    "# Adding a space to the end of each title; preparing to add subtitle \n",
    "title_series = add_space(data['Title'])\n",
    "\n",
    "# Need to reset indices of both in order to replace Title column\n",
    "title_series = title_series.reset_index(drop=True)\n",
    "data.reset_index(drop=True)\n",
    "\n",
    "# Replace old titles with new titles+space\n",
    "data['Title'] = title_series\n",
    "\n",
    "# Join Title + Subtitle and save to a new 'Text' column\n",
    "data[\"Text\"] = data[\"Title\"].map(str) + data[\"Subtitle\"]"
   ]
  },
  {
   "cell_type": "code",
   "execution_count": 5,
   "metadata": {
    "ExecuteTime": {
     "end_time": "2019-11-15T17:21:53.436388Z",
     "start_time": "2019-11-15T17:21:51.849526Z"
    }
   },
   "outputs": [],
   "source": [
    "######################### Features #########################\n",
    "docs = preprocessing(data['Text'])\n",
    "claps = data['Claps']"
   ]
  },
  {
   "cell_type": "code",
   "execution_count": 6,
   "metadata": {
    "ExecuteTime": {
     "end_time": "2019-11-15T17:22:00.299390Z",
     "start_time": "2019-11-15T17:21:53.438732Z"
    }
   },
   "outputs": [
    {
     "data": {
      "text/plain": [
       "array([1, 1, 1, ..., 1, 1, 3], dtype=int32)"
      ]
     },
     "execution_count": 6,
     "metadata": {},
     "output_type": "execute_result"
    }
   ],
   "source": [
    "######################### Pipeline #########################\n",
    "pipeline = Pipeline([\n",
    "    ('tfidf', TfidfVectorizer(ngram_range=(1,2), \n",
    "                              binary=True, \n",
    "                              stop_words='english', \n",
    "                              min_df = 3, \n",
    "                              max_df = 0.75)), \n",
    "    ('lsa', TruncatedSVD(4)), \n",
    "    ('km', KMeans(n_clusters=4, \n",
    "                  init='k-means++', \n",
    "                  random_state=33))\n",
    "])\n",
    "\n",
    "pipeline.fit_transform(docs)\n",
    "pipeline.predict(docs) # Just to see what cluster they were assigned"
   ]
  },
  {
   "cell_type": "markdown",
   "metadata": {},
   "source": [
    "**Note:**  \n",
    "After 2 example runs, it no longer gives new article results.  \n",
    "I have to restart kernal. Not sure why. "
   ]
  },
  {
   "cell_type": "code",
   "execution_count": 11,
   "metadata": {
    "ExecuteTime": {
     "end_time": "2019-11-15T17:23:01.766465Z",
     "start_time": "2019-11-15T17:23:01.748082Z"
    },
    "scrolled": true
   },
   "outputs": [
    {
     "name": "stdout",
     "output_type": "stream",
     "text": [
      "User Input: Can Neural Networks Develop Attention? Google Thinks They Can.\n",
      "Inertia: 100.2806429526275 \n",
      "\n",
      "Title             Why Fasting Is The Best Way To Lose Weight \n",
      "Subtitle    5 Scientifically-Backed Reasons Fasting Helps ...\n",
      "Claps                                                   17300\n",
      "Name: 29863, dtype: object \n",
      "\n",
      "Title       Why Isnt Agile Working? \n",
      "Subtitle           A couple drawings\n",
      "Claps                          18200\n",
      "Name: 38832, dtype: object \n",
      "\n",
      "Title       An Open Letter to the FCC: \n",
      "Subtitle    Dear FCC Chairman Ajit Pai:\n",
      "Claps                             51000\n",
      "Name: 13329, dtype: object \n",
      "\n"
     ]
    }
   ],
   "source": [
    "######################### Search Example #########################\n",
    "example_search = \"Can Neural Networks Develop Attention? Google Thinks They Can.\"\n",
    "print('User Input:', example_search)\n",
    "print('Inertia:', pipeline.named_steps['km'].inertia_, '\\n')\n",
    "top_related_articles(example_search, pipeline)"
   ]
  },
  {
   "cell_type": "code",
   "execution_count": 8,
   "metadata": {
    "ExecuteTime": {
     "end_time": "2019-11-15T17:22:00.340122Z",
     "start_time": "2019-11-15T17:22:00.335272Z"
    }
   },
   "outputs": [
    {
     "name": "stdout",
     "output_type": "stream",
     "text": [
      "Hi! Its me again Im just wondering about how we can save the education system  \n",
      "\n"
     ]
    }
   ],
   "source": [
    "# Just taking a closer look\n",
    "print(data.iloc[24166, 0], '\\n')"
   ]
  },
  {
   "cell_type": "code",
   "execution_count": 9,
   "metadata": {
    "ExecuteTime": {
     "end_time": "2019-11-15T17:22:00.347664Z",
     "start_time": "2019-11-15T17:22:00.343835Z"
    }
   },
   "outputs": [],
   "source": [
    "# Other examples\n",
    "example_search1 = \"Trump's Trying to Get Away With Something Even Nixon Couldn't\"\n",
    "example_search2 = \"Is Artificial Intelligence Really Going to Put You Out of a Job??\""
   ]
  }
 ],
 "metadata": {
  "kernelspec": {
   "display_name": "Python [conda env:metis] *",
   "language": "python",
   "name": "conda-env-metis-py"
  },
  "language_info": {
   "codemirror_mode": {
    "name": "ipython",
    "version": 3
   },
   "file_extension": ".py",
   "mimetype": "text/x-python",
   "name": "python",
   "nbconvert_exporter": "python",
   "pygments_lexer": "ipython3",
   "version": "3.7.3"
  },
  "toc": {
   "base_numbering": 1,
   "nav_menu": {},
   "number_sections": true,
   "sideBar": true,
   "skip_h1_title": false,
   "title_cell": "Table of Contents",
   "title_sidebar": "Contents",
   "toc_cell": false,
   "toc_position": {},
   "toc_section_display": true,
   "toc_window_display": false
  }
 },
 "nbformat": 4,
 "nbformat_minor": 2
}
